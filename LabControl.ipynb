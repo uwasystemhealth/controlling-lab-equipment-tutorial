{
 "cells": [
  {
   "cell_type": "markdown",
   "metadata": {
    "Collapsed": "false"
   },
   "source": [
    "# Lab Control"
   ]
  },
  {
   "cell_type": "markdown",
   "metadata": {
    "Collapsed": "false"
   },
   "source": [
    "In this tutorial, we take three different pieces of scientific equipment and use this \n",
    "[Jupyter](https://jupyter.org/) Notebook to control the devices using \n",
    "[Python](https://python.org/).\n",
    "\n",
    "The devices which we are controlling in this tutorial are:\n",
    "\n",
    "* [Keysight 33512B Waveform Generator](https://www.keysight.com/au/en/assets/7018-05928/data-sheets/5992-2572.pdf)\n",
    "* [Rigol DS1074 Oscilloscope](https://www.rigolna.com/ds1z/)\n",
    "* [Brüel & Kjær Type 3050-B-6](https://www.bksv.com/en/products/data-acquisition-systems-and-hardware/LAN-XI-data-acquisition-hardware/modules/type-3050)\n",
    "\n",
    "The first step in remotely controlling these devices is to connect them to a computer via either USB or Ethernet."
   ]
  },
  {
   "cell_type": "markdown",
   "metadata": {
    "Collapsed": "false"
   },
   "source": [
    "## Physical setup of the devices"
   ]
  },
  {
   "cell_type": "markdown",
   "metadata": {
    "Collapsed": "false"
   },
   "source": [
    "### Front Panels"
   ]
  },
  {
   "cell_type": "markdown",
   "metadata": {
    "Collapsed": "false"
   },
   "source": [
    "The three devices are connected to each other using [BNC](https://en.wikipedia.org/wiki/BNC_connector) connectors and cables.\n",
    "\n",
    "You will require 4 BNC cables and 2 BNC Tee Adapters.\n",
    "\n",
    "![Device configuration (front)](figures/Device_configuration_front.png)"
   ]
  },
  {
   "cell_type": "markdown",
   "metadata": {
    "Collapsed": "false"
   },
   "source": [
    "### Rear panels (Ethernet)"
   ]
  },
  {
   "cell_type": "markdown",
   "metadata": {
    "Collapsed": "false"
   },
   "source": [
    "The three devices can be connected to the network using Ethernet cables and an unmanaged switch.\n",
    "\n",
    "You will require 4 Ethernet cables and an unmanaged switch.\n",
    "\n",
    "![Device configuration (Ethernet)](figures/Device_configuration_ethernet.png)\n",
    "\n",
    "The devices can either be connected directly to the computer via the switch, or the switch can be connected to a router with WiFi access for the computer."
   ]
  },
  {
   "cell_type": "markdown",
   "metadata": {
    "Collapsed": "false"
   },
   "source": [
    "### Rear panels (USB)"
   ]
  },
  {
   "cell_type": "markdown",
   "metadata": {
    "Collapsed": "false"
   },
   "source": [
    "The signal generator and the oscilloscope can be connected to the computer via USB.\n",
    "The DAQ will still require Ethernet connection.\n",
    "\n",
    "You will require 1 Ethernet cable and 2 USB cables.\n",
    "\n",
    "![Device configuration (USB)](figures/Device_configuration_usb.png)\n"
   ]
  },
  {
   "cell_type": "markdown",
   "metadata": {
    "Collapsed": "false"
   },
   "source": [
    "## Connecting VISA compatible devices via USB"
   ]
  },
  {
   "cell_type": "markdown",
   "metadata": {
    "Collapsed": "false"
   },
   "source": [
    "Connecting a device via USB does not require any configuration of the device, but will generally require configuration on the computer to which you are attaching the device. \n",
    "This configuration is different for different operating systems. Here we run through the configuration for Linux and Windows 10."
   ]
  },
  {
   "cell_type": "markdown",
   "metadata": {
    "Collapsed": "false"
   },
   "source": [
    "### Linux"
   ]
  },
  {
   "cell_type": "code",
   "execution_count": null,
   "metadata": {
    "Collapsed": "false"
   },
   "outputs": [],
   "source": [
    "!pip install pyvisa"
   ]
  },
  {
   "cell_type": "markdown",
   "metadata": {
    "Collapsed": "false"
   },
   "source": [
    "Install [NI VISA](https://pyvisa.readthedocs.io/en/latest/faq/getting_nivisa.html#faq-getting-nivisa)"
   ]
  },
  {
   "cell_type": "code",
   "execution_count": null,
   "metadata": {
    "Collapsed": "false"
   },
   "outputs": [],
   "source": [
    "!lsusb"
   ]
  },
  {
   "cell_type": "code",
   "execution_count": null,
   "metadata": {
    "Collapsed": "false"
   },
   "outputs": [],
   "source": [
    "import pyvisa\n",
    "rm = pyvisa.ResourceManager()\n",
    "\n",
    "print(rm.list_resources())\n",
    "\n",
    "Agilent = rm.open_resource(rm.list_resources()[0])\n",
    "print(Agilent.query(\"*IDN?\"))"
   ]
  },
  {
   "cell_type": "markdown",
   "metadata": {
    "Collapsed": "true"
   },
   "source": [
    "## Connecting vxi11 compatible devices via Ethernet"
   ]
  },
  {
   "cell_type": "markdown",
   "metadata": {
    "Collapsed": "false"
   },
   "source": [
    "Connecting devices via Ethernet is generally easier than connecting via USB. There is no need to load any drivers or run any root or admin commands, however the computer that you are using and the devices themselves all need to be on the same WAN.\n",
    "\n"
   ]
  },
  {
   "cell_type": "code",
   "execution_count": 2,
   "metadata": {
    "Collapsed": "false"
   },
   "outputs": [
    {
     "name": "stdout",
     "output_type": "stream",
     "text": [
      "Requirement already satisfied: python-vxi11 in /home/btrav/anaconda3/envs/jupyterlab/lib/python3.7/site-packages (0.9)\n"
     ]
    }
   ],
   "source": [
    "!pip install python-vxi11"
   ]
  },
  {
   "cell_type": "code",
   "execution_count": 3,
   "metadata": {
    "Collapsed": "false"
   },
   "outputs": [],
   "source": [
    "keysight_ip = '192.168.0.55'"
   ]
  },
  {
   "cell_type": "code",
   "execution_count": 4,
   "metadata": {
    "Collapsed": "false"
   },
   "outputs": [
    {
     "name": "stdout",
     "output_type": "stream",
     "text": [
      "Agilent Technologies,33512B,MY57401183,4.00-1.19-2.00-58-00\n"
     ]
    }
   ],
   "source": [
    "import vxi11\n",
    "import time\n",
    "Agilent = vxi11.Instrument(keysight_ip)\n",
    "print(Agilent.ask(\"*IDN?\"))"
   ]
  },
  {
   "cell_type": "code",
   "execution_count": null,
   "metadata": {
    "Collapsed": "false"
   },
   "outputs": [],
   "source": [
    "rigol_ip = '192.168.0.60'"
   ]
  },
  {
   "cell_type": "code",
   "execution_count": null,
   "metadata": {
    "Collapsed": "false"
   },
   "outputs": [],
   "source": [
    "Rigol = vxi11.Instrument(rigol_ip)\n",
    "print(Rigol.ask(\"*IDN?\"))"
   ]
  },
  {
   "cell_type": "markdown",
   "metadata": {
    "Collapsed": "false"
   },
   "source": [
    "## Interacting with a Brüel & Kjær Type 3050-B-6 using Python"
   ]
  },
  {
   "cell_type": "markdown",
   "metadata": {
    "Collapsed": "false"
   },
   "source": [
    "To communicate with a stand-alone [Brüel & Kjær Type 3050-B-6](https://www.bksv.com/en/products/data-acquisition-systems-and-hardware/LAN-XI-data-acquisition-hardware/modules/type-3050), it is necessary to have a [Notar™ BZ-7848-A (LAN-XI stand-alone recorder license)](https://www.bksv.com/en/products/data-acquisition-systems-and-hardware/general-purpose-analyzer-system/lan-xi-notar), which allows you to interact with the device via a browser, utilising the Ethernet port at the back of the device. \n",
    "\n",
    "The details of how to interact with the BnK have been worked out in the [PyBnK](https://github.com/uwasystemhealth/PyBnK) respository, here we simply need to import the module, then use the BnK device."
   ]
  },
  {
   "cell_type": "code",
   "execution_count": null,
   "metadata": {
    "Collapsed": "false"
   },
   "outputs": [],
   "source": [
    "bnk_ip = '192.168.0.29'"
   ]
  },
  {
   "cell_type": "code",
   "execution_count": null,
   "metadata": {
    "Collapsed": "false"
   },
   "outputs": [],
   "source": []
  }
 ],
 "metadata": {
  "kernelspec": {
   "display_name": "Python 3",
   "language": "python",
   "name": "python3"
  },
  "language_info": {
   "codemirror_mode": {
    "name": "ipython",
    "version": 3
   },
   "file_extension": ".py",
   "mimetype": "text/x-python",
   "name": "python",
   "nbconvert_exporter": "python",
   "pygments_lexer": "ipython3",
   "version": "3.7.3"
  }
 },
 "nbformat": 4,
 "nbformat_minor": 4
}
