{
 "cells": [
  {
   "cell_type": "markdown",
   "metadata": {},
   "source": [
    "# Lab Control"
   ]
  },
  {
   "cell_type": "markdown",
   "metadata": {},
   "source": [
    "In this tutorial, we take a variety of  different pieces of scientific equipment and use this \n",
    "[Jupyter](https://jupyter.org/) Notebook to control the devices using \n",
    "[Python](https://python.org/).\n",
    "\n",
    "The devices which we are currently controlling in this tutorial are:\n",
    "\n",
    "* [Keysight 33512B Waveform Generator](https://www.keysight.com/au/en/assets/7018-05928/data-sheets/5992-2572.pdf)\n",
    "* [Rigol DS1074 Oscilloscope](https://www.rigolna.com/ds1z/)\n",
    "* [Brüel & Kjær Type 3050-B-6](https://www.bksv.com/en/products/data-acquisition-systems-and-hardware/LAN-XI-data-acquisition-hardware/modules/type-3050)\n",
    "* [DT9857E-16](https://www.mccdaq.com/Products/Sound-Vibration-DAQ/DT9857E)\n",
    "\n",
    "The first step in remotely controlling these devices is to connect them to a computer via either USB or Ethernet."
   ]
  },
  {
   "cell_type": "markdown",
   "metadata": {},
   "source": [
    "### Front Panels"
   ]
  },
  {
   "cell_type": "markdown",
   "metadata": {},
   "source": [
    "The three devices are connected to each other using [BNC](https://en.wikipedia.org/wiki/BNC_connector) connectors and cables.\n",
    "\n",
    "You will require 4 BNC cables and 2 BNC Tee Adapters.\n",
    "\n",
    "![Device configuration (front)](figures/Device_configuration_front.png)"
   ]
  },
  {
   "cell_type": "markdown",
   "metadata": {},
   "source": [
    "### Rear panels (Ethernet)"
   ]
  },
  {
   "cell_type": "markdown",
   "metadata": {},
   "source": [
    "The three devices can be connected to the network using Ethernet cables and an unmanaged switch.\n",
    "\n",
    "You will require 4 Ethernet cables and an unmanaged switch.\n",
    "\n",
    "![Device configuration (Ethernet)](figures/Device_configuration_ethernet.png)\n",
    "\n",
    "The devices can either be connected directly to the computer via the switch, or the switch can be connected to a router with WiFi access for the computer."
   ]
  },
  {
   "cell_type": "markdown",
   "metadata": {},
   "source": [
    "### Rear panels (USB)"
   ]
  },
  {
   "cell_type": "markdown",
   "metadata": {},
   "source": [
    "The signal generator and the oscilloscope can be connected to the computer via USB.\n",
    "The DAQ will still require Ethernet connection.\n",
    "\n",
    "You will require 1 Ethernet cable and 2 USB cables.\n",
    "\n",
    "![Device configuration (USB)](figures/Device_configuration_usb.png)\n"
   ]
  },
  {
   "cell_type": "markdown",
   "metadata": {
    "collapsed": "true"
   },
   "source": [
    "## Connecting VISA compatible devices via USB"
   ]
  },
  {
   "cell_type": "markdown",
   "metadata": {},
   "source": [
    "Connecting a device via USB does not require any configuration of the device, but will generally require configuration on the computer to which you are attaching the device. \n",
    "This configuration is different for different operating systems. Here we run through the configuration for Linux and Windows 10."
   ]
  },
  {
   "cell_type": "markdown",
   "metadata": {},
   "source": [
    "### Linux"
   ]
  },
  {
   "cell_type": "markdown",
   "metadata": {},
   "source": [
    "Start by connecting the device to your computer via USB cable, and turning on the device.\n",
    "Then get a list of currently connected USB devices:"
   ]
  },
  {
   "cell_type": "code",
   "execution_count": null,
   "metadata": {},
   "outputs": [],
   "source": [
    "usb_devices = subprocess.check_output('lsusb').decode('UTF-8')\n",
    "print(usb_devices)"
   ]
  },
  {
   "cell_type": "markdown",
   "metadata": {},
   "source": [
    "Hopefully the device is contained in the list. In my case, the device is the 4th on the list, and from this I can obtain the Vendor ID and the Product ID:"
   ]
  },
  {
   "cell_type": "code",
   "execution_count": null,
   "metadata": {},
   "outputs": [],
   "source": [
    "#Keysight 3500B Series\n",
    "idVendor = '0957'\n",
    "idProduct = '2807'"
   ]
  },
  {
   "cell_type": "markdown",
   "metadata": {},
   "source": [
    "We now need to add the device to the list of devices that we can utilise (NB: this requires root access).\n",
    "\n",
    "The line that we need to add is:"
   ]
  },
  {
   "cell_type": "code",
   "execution_count": null,
   "metadata": {},
   "outputs": [],
   "source": [
    "import getpass\n",
    "new_usb_rule = (f'SUBSYSTEMS==\"usb\", ACTION==\"add\", ' +\n",
    "                f'ATTRS{{idVendor}}==\"{idVendor}\", ' +\n",
    "                f'ATTRS{{idProduct}}==\"{idProduct}\", ' +\n",
    "                f'GROUP=\"{getpass.getuser()}\", MODE=\"0660\"'\n",
    "               )\n",
    "print(new_usb_rule)"
   ]
  },
  {
   "cell_type": "markdown",
   "metadata": {},
   "source": [
    "Check that the rule is not already there:"
   ]
  },
  {
   "cell_type": "code",
   "execution_count": null,
   "metadata": {},
   "outputs": [],
   "source": [
    "!cat /etc/udev/rules.d/usbtmc.rules"
   ]
  },
  {
   "cell_type": "markdown",
   "metadata": {},
   "source": [
    "If it is not already there, then add it by running the following commands in a terminal window:"
   ]
  },
  {
   "cell_type": "code",
   "execution_count": null,
   "metadata": {},
   "outputs": [],
   "source": [
    "print(f\"echo '{new_usb_rule}' | sudo tee -a /etc/udev/rules.d/usbtmc.rules\")\n",
    "print('sudo udevadm control --reload-rules && udevadm trigger')"
   ]
  },
  {
   "cell_type": "code",
   "execution_count": null,
   "metadata": {},
   "outputs": [],
   "source": [
    "!pip install libusb1"
   ]
  },
  {
   "cell_type": "code",
   "execution_count": null,
   "metadata": {},
   "outputs": [],
   "source": [
    "import usb1\n",
    "with usb1.USBContext() as context:\n",
    "    handle = context.openByVendorIDAndProductID(\n",
    "        idVendor,\n",
    "        idProduct,\n",
    "        skip_on_error=True,\n",
    "    )\n",
    "    if handle is None:\n",
    "        # Device not present, or user is not allowed to access device.\n",
    "        print(\"Device not present\")\n",
    "    with handle.claimInterface(INTERFACE):\n",
    "        # Do stuff with endpoints on claimed interface.\n",
    "        #print(Agilent.ask(\"*IDN?\"))\n",
    "        pass"
   ]
  },
  {
   "cell_type": "code",
   "execution_count": null,
   "metadata": {},
   "outputs": [],
   "source": [
    "import usbtmc\n",
    "import usb.core\n",
    "import usb.backend.libusb1\n",
    "Agilent = usbtmc.Instrument(idVendor,idProduct)\n",
    "print(Agilent.ask(\"*IDN?\"))"
   ]
  },
  {
   "cell_type": "code",
   "execution_count": null,
   "metadata": {},
   "outputs": [],
   "source": []
  },
  {
   "cell_type": "code",
   "execution_count": null,
   "metadata": {},
   "outputs": [],
   "source": [
    "usbtmc?"
   ]
  },
  {
   "cell_type": "code",
   "execution_count": null,
   "metadata": {},
   "outputs": [],
   "source": [
    "#Rigol DS1074Z\n",
    "idVendor = \n",
    "idProduct = "
   ]
  },
  {
   "cell_type": "markdown",
   "metadata": {},
   "source": [
    "### Windows 10"
   ]
  },
  {
   "cell_type": "code",
   "execution_count": null,
   "metadata": {},
   "outputs": [],
   "source": [
    "!pip install pyvisa"
   ]
  },
  {
   "cell_type": "markdown",
   "metadata": {},
   "source": [
    "Install [NI VISA](https://pyvisa.readthedocs.io/en/latest/faq/getting_nivisa.html#faq-getting-nivisa)"
   ]
  },
  {
   "cell_type": "code",
   "execution_count": null,
   "metadata": {},
   "outputs": [],
   "source": [
    "!lsusb"
   ]
  },
  {
   "cell_type": "code",
   "execution_count": null,
   "metadata": {},
   "outputs": [],
   "source": [
    "import pyvisa\n",
    "rm = pyvisa.ResourceManager()\n",
    "\n",
    "print(rm.list_resources())\n",
    "\n",
    "Agilent = rm.open_resource(rm.list_resources()[0])\n",
    "print(Agilent.query(\"*IDN?\"))"
   ]
  },
  {
   "cell_type": "markdown",
   "metadata": {},
   "source": [
    "## Connecting vxi11 compatible devices via Ethernet"
   ]
  },
  {
   "cell_type": "markdown",
   "metadata": {},
   "source": [
    "Connecting devices via Ethernet is generally easier than connecting via USB. There is no need to load any drivers or run any root or admin commands, however the computer that you are using and the devices themselves all need to be on the same WAN.\n",
    "\n"
   ]
  },
  {
   "cell_type": "code",
   "execution_count": null,
   "metadata": {},
   "outputs": [],
   "source": [
    "!pip install python-vxi11"
   ]
  },
  {
   "cell_type": "code",
   "execution_count": null,
   "metadata": {},
   "outputs": [],
   "source": [
    "keysight_ip = '192.168.0.55'"
   ]
  },
  {
   "cell_type": "code",
   "execution_count": null,
   "metadata": {},
   "outputs": [],
   "source": [
    "import vxi11\n",
    "import time\n",
    "Keysight = vxi11.Instrument(keysight_ip)\n",
    "print(Keysight.ask(\"*IDN?\"))"
   ]
  },
  {
   "cell_type": "code",
   "execution_count": null,
   "metadata": {},
   "outputs": [],
   "source": [
    "rigol_ip = '192.168.0.60'"
   ]
  },
  {
   "cell_type": "code",
   "execution_count": null,
   "metadata": {},
   "outputs": [],
   "source": [
    "Rigol = vxi11.Instrument(rigol_ip)\n",
    "print(Rigol.ask(\"*IDN?\"))"
   ]
  },
  {
   "cell_type": "markdown",
   "metadata": {},
   "source": [
    "## Interacting with a Brüel & Kjær Type 3050-B-6 using Python"
   ]
  },
  {
   "cell_type": "markdown",
   "metadata": {},
   "source": [
    "To communicate with a stand-alone [Brüel & Kjær Type 3050-B-6](https://www.bksv.com/en/products/data-acquisition-systems-and-hardware/LAN-XI-data-acquisition-hardware/modules/type-3050), it is necessary to have a [Notar™ BZ-7848-A (LAN-XI stand-alone recorder license)](https://www.bksv.com/en/products/data-acquisition-systems-and-hardware/general-purpose-analyzer-system/lan-xi-notar), which allows you to interact with the device via a browser, utilising the Ethernet port at the back of the device. \n",
    "\n",
    "The details of how to interact with the BnK have been worked out in the [PyBnK](https://github.com/uwasystemhealth/PyBnK) respository, here we simply need to import the module, then use the BnK device."
   ]
  },
  {
   "cell_type": "code",
   "execution_count": null,
   "metadata": {},
   "outputs": [],
   "source": [
    "!cd ../PyBnK;pip install .;cd -"
   ]
  },
  {
   "cell_type": "code",
   "execution_count": null,
   "metadata": {},
   "outputs": [],
   "source": [
    "from bnk.bnk import WavHeader, OpenWav, Instrument"
   ]
  },
  {
   "cell_type": "code",
   "execution_count": null,
   "metadata": {},
   "outputs": [],
   "source": [
    "bnk_ip = '192.168.0.29'\n",
    "ADAC = Instrument(bnk_ip)\n",
    "print(ADAC) # Show some info about the BnK device"
   ]
  },
  {
   "cell_type": "markdown",
   "metadata": {},
   "source": [
    "## Initialising the devices"
   ]
  },
  {
   "cell_type": "markdown",
   "metadata": {
    "collapsed": "true"
   },
   "source": [
    "### Signal Generator"
   ]
  },
  {
   "cell_type": "markdown",
   "metadata": {},
   "source": [
    "The manual for the Keysight signal generator can be found here: https://literature.cdn.keysight.com/litweb/pdf/33500-90901.pdf\n",
    "\n",
    "A local copy of the document can be found here: [references/33500-90901.pdf](references/33500-90901.pdf)\n",
    "\n",
    "This document contains the SCPI Programming Reference section, which explains how to manipulate \n",
    "the device using ASCII commands.\n",
    "\n",
    "SCPI (Standard Commands for Programmable Instruments) is an ASCII-based instrument command language \n",
    "designed for test and measurement instruments. "
   ]
  },
  {
   "cell_type": "markdown",
   "metadata": {},
   "source": [
    "We begin by outputting two sine waves.\n",
    "We can specify the amplitude, frequency, offset and phase of these waves.\n",
    "\n",
    "But first, we need to explain the impedance setting.\n",
    "\n",
    "See https://www.keysight.com/main/editorial.jspx%3Fckey%3D1948055%26id%3D1948055%26nid%3D-11143.0.00%26lc%3Djpn%26cc%3DJP for details.\n",
    "\n",
    "The impedance that you set on the signal generator depends upon what you intend to attach to the signal\n",
    "generator.\n",
    "If you intend to attach a high impedance device (such as an oscilloscope), then you would want\n",
    "to set the signal generator to display the high impedance voltage level. \n",
    "\n",
    "WARNING: If you are powering the BnK using mains power, you are likely to pick up a lot of 50 Hz\n",
    "noise on the oscilloscope while the BnK is in standby mode, but this problem disappears if the BnK\n",
    "is placed into recorder mode (sometimes), or if powered by battery."
   ]
  },
  {
   "cell_type": "markdown",
   "metadata": {},
   "source": [
    "#### Keysight"
   ]
  },
  {
   "cell_type": "code",
   "execution_count": null,
   "metadata": {},
   "outputs": [],
   "source": [
    "#enable 50 ohm impedance\n",
    "#Keysight.write(\"OUTPut:LOAD 50\") \n",
    "#Keysight.write(\"OUTPut2:LOAD 50\")\n",
    "\n",
    "#enable high impedance\n",
    "Keysight.write(\"OUTPut:LOAD INF\")\n",
    "Keysight.write(\"OUTPut2:LOAD INF\")\n",
    "\n",
    "#Turn off channel 1\n",
    "Keysight.write(\"OUTPut OFF\")\n",
    "\n",
    "#Turn off channel 2\n",
    "Keysight.write(\"OUTPut2 OFF\")\n",
    "\n",
    "#Set the units to Vpp\n",
    "Keysight.write(\"VOLTage:UNIT VPP\")"
   ]
  },
  {
   "cell_type": "code",
   "execution_count": null,
   "metadata": {},
   "outputs": [],
   "source": [
    "Keysight.write(\"TRIGger:SOURce IMMediate\")\n",
    "Keysight.write(\"BURSt:MODE TRIGgered\")\n",
    "Keysight.write(\"BURSt:INTernal:PERiod 1\")"
   ]
  },
  {
   "cell_type": "code",
   "execution_count": null,
   "metadata": {},
   "outputs": [],
   "source": [
    "import time\n",
    "\n",
    "freq = [1000, 1000]\n",
    "amp = [3,2]\n",
    "offset = [0,0]\n",
    "phase = [0,0]\n",
    "\n",
    "#Turn off channel 1\n",
    "Keysight.write(\"OUTPut OFF\")\n",
    "#Turn off channel 2\n",
    "Keysight.write(\"OUTPut2 OFF\")\n",
    "\n",
    "time.sleep(1)\n",
    "\n",
    "Keysight.write(f\"APPLy:SIN {freq[0]},{amp[0]},{offset[0]}\")\n",
    "Keysight.write(f\"SOURce2:APPLy:SIN {freq[1]},{amp[1]},{offset[1]}\")\n",
    "Keysight.write(\"PHAS:SYNC\") #Sync the two internal channels\n",
    "Keysight.write(f\"PHASe {phase[0]}\")\n",
    "Keysight.write(f\"SOURce2:PHASe {phase[1]}\")\n"
   ]
  },
  {
   "cell_type": "markdown",
   "metadata": {},
   "source": [
    "These commands are unnecessary here, as APPLy turns on output"
   ]
  },
  {
   "cell_type": "code",
   "execution_count": null,
   "metadata": {},
   "outputs": [],
   "source": [
    "#Turn off channel 1\n",
    "Keysight.write(\"OUTPut OFF\")"
   ]
  },
  {
   "cell_type": "code",
   "execution_count": null,
   "metadata": {},
   "outputs": [],
   "source": [
    "#Turn off channel 2\n",
    "Keysight.write(\"OUTPut2 OFF\")"
   ]
  },
  {
   "cell_type": "code",
   "execution_count": null,
   "metadata": {},
   "outputs": [],
   "source": [
    "#Turn on channel 1\n",
    "Keysight.write(\"OUTPut ON\")"
   ]
  },
  {
   "cell_type": "code",
   "execution_count": null,
   "metadata": {},
   "outputs": [],
   "source": [
    "#Turn on channel 2\n",
    "Keysight.write(\"OUTPut2 ON\")"
   ]
  },
  {
   "cell_type": "markdown",
   "metadata": {
    "collapsed": "true"
   },
   "source": [
    "#### Agilent"
   ]
  },
  {
   "cell_type": "code",
   "execution_count": null,
   "metadata": {},
   "outputs": [],
   "source": [
    "#enable 50 ohm impedance\n",
    "#Agilent.write(\"OUTPut:LOAD 50\") \n",
    "\n",
    "#enable high impedance\n",
    "Agilent.write(\"OUTPut:LOAD INF\")\n",
    "\n",
    "#Turn off output\n",
    "Agilent.write(\"OUTPut OFF\")\n",
    "\n",
    "#Set the units to Vpp\n",
    "Agilent.write(\"VOLTage:UNIT VPP\")"
   ]
  },
  {
   "cell_type": "code",
   "execution_count": null,
   "metadata": {},
   "outputs": [],
   "source": [
    "Agilent.write(\"TRIGger:SOURce IMMediate\")\n",
    "Agilent.write(\"BURSt:MODE TRIGgered\")\n",
    "Agilent.write(\"BURSt:INTernal:PERiod 1\")"
   ]
  },
  {
   "cell_type": "code",
   "execution_count": null,
   "metadata": {},
   "outputs": [],
   "source": [
    "import time\n",
    "\n",
    "freq = [1000, 1000]\n",
    "amp = [3,2]\n",
    "offset = [0,0]\n",
    "phase = [0,0]\n",
    "\n",
    "#Turn off channel 1\n",
    "Agilent.write(\"OUTPut OFF\")\n",
    "\n",
    "time.sleep(1)\n",
    "\n",
    "Agilent.write(f\"APPLy:SIN {freq[0]},{amp[0]},{offset[0]}\")"
   ]
  },
  {
   "cell_type": "markdown",
   "metadata": {},
   "source": [
    "These commands are unnecessary here, as APPLy turns on output"
   ]
  },
  {
   "cell_type": "code",
   "execution_count": null,
   "metadata": {},
   "outputs": [],
   "source": [
    "#Turn off channel 1\n",
    "Agilent.write(\"OUTPut OFF\")"
   ]
  },
  {
   "cell_type": "code",
   "execution_count": null,
   "metadata": {},
   "outputs": [],
   "source": [
    "#Turn on channel 1\n",
    "Agilent.write(\"OUTPut ON\")"
   ]
  },
  {
   "cell_type": "markdown",
   "metadata": {},
   "source": [
    "### Oscilloscope"
   ]
  },
  {
   "cell_type": "markdown",
   "metadata": {},
   "source": [
    "The manual for the Rigol can be found here: https://www.batronix.com/pdf/Rigol/UserGuide/DS1000Z_UserGuide_EN.pdf\n",
    "\n",
    "A local copy of the document can be found here: [references/DS1000Z_UserGuide_EN.pdf](references/DS1000Z_UserGuide_EN.pdf)\n",
    "\n",
    "The manual for the remotely programming the oscilloscope can be found here: http://www.fisica.unipg.it/~michele.pauluzzi/Laboratorio%20II%20varie/Rigol%20Oscilloscope%20DS1054Z%20Programming%20Guide.pdf\n",
    "\n",
    "A local copy of the document can be found here: [references/Rigol%20Oscilloscope%20DS1054Z%20Programming%20Guide.pdf](references/Rigol%20Oscilloscope%20DS1054Z%20Programming%20Guide.pdf)\n",
    "\n",
    "This document contains the SCPI Programming Reference section, which explains how to manipulate \n",
    "the device using ASCII commands."
   ]
  },
  {
   "cell_type": "code",
   "execution_count": null,
   "metadata": {},
   "outputs": [],
   "source": [
    "#Clear any messages which might be on the screen\n",
    "Rigol.write(\":DISPlay:CLEar\")"
   ]
  },
  {
   "cell_type": "code",
   "execution_count": null,
   "metadata": {},
   "outputs": [],
   "source": [
    "#Run Button\n",
    "Rigol.write(\":RUN\")"
   ]
  },
  {
   "cell_type": "code",
   "execution_count": null,
   "metadata": {},
   "outputs": [],
   "source": [
    "#Stop Button\n",
    "Rigol.write(\":STOP\")"
   ]
  },
  {
   "cell_type": "code",
   "execution_count": null,
   "metadata": {},
   "outputs": [],
   "source": [
    "#To turn on/off a channel from the display, use this syntax:\n",
    "# \":CHANnel():DISPlay ()\", First ()-Channel Number 1-4, Second () - ON/OFF \n",
    "Rigol.write(\":CHANnel4:DISPlay OFF\")"
   ]
  },
  {
   "cell_type": "code",
   "execution_count": null,
   "metadata": {},
   "outputs": [],
   "source": [
    "#Turn on Channel 1\n",
    "Rigol.write(\":CHANnel1:DISPlay On\")"
   ]
  },
  {
   "cell_type": "code",
   "execution_count": null,
   "metadata": {},
   "outputs": [],
   "source": [
    "#Turn on Channel 2\n",
    "Rigol.write(\":CHANnel2:DISPlay On\")"
   ]
  },
  {
   "cell_type": "code",
   "execution_count": null,
   "metadata": {},
   "outputs": [],
   "source": [
    "#Turn on Channel 3\n",
    "Rigol.write(\":CHANnel3:DISPlay On\")"
   ]
  },
  {
   "cell_type": "code",
   "execution_count": null,
   "metadata": {},
   "outputs": [],
   "source": [
    "#Turn on Channel 4\n",
    "Rigol.write(\":CHANnel4:DISPlay On\")"
   ]
  },
  {
   "cell_type": "code",
   "execution_count": null,
   "metadata": {},
   "outputs": [],
   "source": [
    "#Turn off Channel 1\n",
    "Rigol.write(\":CHANnel1:DISPlay Off\")"
   ]
  },
  {
   "cell_type": "code",
   "execution_count": null,
   "metadata": {},
   "outputs": [],
   "source": [
    "#Turn off Channel 2\n",
    "Rigol.write(\":CHANnel2:DISPlay Off\")"
   ]
  },
  {
   "cell_type": "code",
   "execution_count": null,
   "metadata": {},
   "outputs": [],
   "source": [
    "#Turn off Channel 3\n",
    "Rigol.write(\":CHANnel3:DISPlay Off\")"
   ]
  },
  {
   "cell_type": "code",
   "execution_count": null,
   "metadata": {},
   "outputs": [],
   "source": [
    "#Turn off Channel 4\n",
    "Rigol.write(\":CHANnel4:DISPlay Off\")"
   ]
  },
  {
   "cell_type": "code",
   "execution_count": null,
   "metadata": {},
   "outputs": [],
   "source": []
  },
  {
   "cell_type": "code",
   "execution_count": null,
   "metadata": {},
   "outputs": [],
   "source": [
    "from datetime import datetime\n",
    "\n",
    "#Set the clock\n",
    "Rigol.write(f\"Date '{datetime.now().strftime('%Y-%m-%d')}'\")\n",
    "Rigol.write(f\"Time '{datetime.now().strftime('%H:%M:%S')}'\")\n",
    "\n",
    "# Turn on Channel 1 and 2, turn off channel 3 and 4\n",
    "\n",
    "# Configure the channels\n",
    "for n in range(1,5):\n",
    "    Rigol.write(f\"CH{n}:Termination MEG\") #Set termination to 1 MΩ \n",
    "    #Tek.write(f\"CH{n}:Termination FIFTy\") #Set termination to 50 Ω \n",
    "    Rigol.write(f\"CH{n}:COUPling DC\") #Set coupling to DC\n",
    "    Rigol.write(f\"CH{n}:INVErt OFF\") #Set Invert to off\n",
    "    Rigol.write(f\"CH{n}:POSition 0\") #Set vertical position to 0    \n",
    "\n",
    "#Tek.write(\"CLEARMenu\")\n",
    "\n",
    "# Configure the vertical axis\n",
    "for n in range(1,3):\n",
    "    Rigol.write(f'CH{n}:YUN \"V\"') \n",
    "    Rigol.write(f\"CH{n}:SCALE 500E-3\")\n",
    "    \n",
    "# Configure the horizontal axis\n",
    "Rigol.write(\"HORIZONTAL:SCALE 400E-6\")\n",
    "\n",
    "# Configure the trigger\n",
    "Rigol.write(\"TRIGger:A:TYPE Edge\")\n",
    "Rigol.write(\"TRIGger:A:EDGE:SOUrce CH1\")\n",
    "Rigol.write(\"TRIGger:A:EDGE:COUPling DC\")\n",
    "Rigol.write(\"TRIGger:A:EDGE:SLOpe RISE\")\n",
    "Rigol.write(\"TRIGger:A:LEVel:CH1 0.1\")\n",
    "Rigol.write(\"TRIGger:A:MODe NORMal\")\n",
    "\n",
    "# Set some measurements\n",
    "Rigol.write(\"MEASUrement:MEAS1:TYPe FREQuency\")\n",
    "Rigol.write(\"MEASUrement:MEAS2:TYPe FREQuency\")\n",
    "Rigol.write(\"MEASUrement:MEAS3:TYPe PK2Pk\")\n",
    "Rigol.write(\"MEASUrement:MEAS4:TYPe PK2Pk\")\n",
    "\n",
    "Rigol.write(\"MEASUrement:MEAS1:SOUrce CH1\")\n",
    "Rigol.write(\"MEASUrement:MEAS2:SOUrce CH2\")\n",
    "Rigol.write(\"MEASUrement:MEAS3:SOUrce CH1\")\n",
    "Rigol.write(\"MEASUrement:MEAS4:SOUrce CH2\")\n",
    "\n",
    "for n in range(1,5):\n",
    "    Rigol.write(f\"MEASUrement:MEAS{n}:SOUrce2 CH1\")\n",
    "    Rigol.write(f\"MEASUrement:MEAS{n}:STATE ON\")"
   ]
  },
  {
   "cell_type": "code",
   "execution_count": null,
   "metadata": {},
   "outputs": [],
   "source": [
    "Rigol.write(\"MEASUrement:CLEARSNapshot\")"
   ]
  },
  {
   "cell_type": "code",
   "execution_count": null,
   "metadata": {},
   "outputs": [],
   "source": [
    "Rigol.ask(\"MEASUrement:MEAS1?\")"
   ]
  },
  {
   "cell_type": "markdown",
   "metadata": {},
   "source": [
    "### Capture a screenshot"
   ]
  },
  {
   "cell_type": "markdown",
   "metadata": {},
   "source": [
    "The code below shows how you can capture a screenshot, such as this:\n",
    "\n",
    "![Tektronix screenshot](figures/tektronix_screenshot.png)"
   ]
  },
  {
   "cell_type": "code",
   "execution_count": null,
   "metadata": {},
   "outputs": [],
   "source": [
    "from pathlib import Path\n",
    "from IPython.display import Image\n",
    "\n",
    "Path(\"untracked\").mkdir(exist_ok=True)\n",
    "\n",
    "timestamp = datetime.now().strftime(\"%Y%m%d%H%M%S\")\n",
    "filename = f'untracked/tektronix_screenshot_{timestamp}.png' \n",
    "\n",
    "Rigol.write(\"SAVE:IMAG:FILEF PNG\")\n",
    "Rigol.write(\"HARDCOPY:INKSaver ON\") #This does not work\n",
    "Rigol.write(\"HARDCOPY START\")\n",
    "raw_data = Tek.read_raw()\n",
    "\n",
    "with open(filename, 'wb') as file:\n",
    "    file.write(raw_data)\n",
    "print(\"Captured screenshot.\")\n",
    "\n",
    "Image(filename) "
   ]
  },
  {
   "cell_type": "markdown",
   "metadata": {},
   "source": [
    "#### Capture the raw data"
   ]
  },
  {
   "cell_type": "markdown",
   "metadata": {},
   "source": [
    "See https://www.tek.com/support/faqs/programing-how-get-and-plot-waveform-dpo-mso-mdo4000-series-scope-python"
   ]
  },
  {
   "cell_type": "code",
   "execution_count": null,
   "metadata": {},
   "outputs": [],
   "source": [
    "import numpy as np\n",
    "from struct import unpack\n",
    "\n",
    "def get_channel(Dev,channel):\n",
    "    \n",
    "    Dev.write(f\"DATA:SOU CH{channel}\")\n",
    "    Dev.write(\"DATA:WIDTH 1\")\n",
    "    Dev.write(\"DATA:ENC RPB\")\n",
    "\n",
    "    ymult = float(Dev.ask(\"WFMPRE:YMULT?\"))\n",
    "    yzero = float(Dev.ask(\"WFMPRE:YZERO?\"))\n",
    "    yoff = float(Dev.ask(\"WFMPRE:YOFF?\"))\n",
    "    xincr = float(Dev.ask(\"WFMPRE:XINCR?\"))\n",
    "\n",
    "    Dev.write(\"CURVE?\")\n",
    "    data = Dev.read_raw()\n",
    "\n",
    "    headerlen = 2 + int(data[1])\n",
    "    header = data[:headerlen]\n",
    "    ADC_wav = data[headerlen:-1]\n",
    "    ADC_wav = np.array(unpack('%sB' % len(ADC_wav),ADC_wav))\n",
    "\n",
    "    Volts = (ADC_wav - yoff) * ymult + yzero\n",
    "    Time = np.arange(0, xincr * len(Volts), xincr)\n",
    "    # The oscilloscope appears to capture 9952 points irrespective\n",
    "    # of the time resolution, and to match the sample with t=0 on the\n",
    "    # screen we need to shift the time back by 4952 points\n",
    "    # (ie the data are not symmetrical about the middle)\n",
    "    Time = Time - xincr*(len(Volts) - 5000)\n",
    "    \n",
    "    return Time, Volts\n"
   ]
  },
  {
   "cell_type": "code",
   "execution_count": null,
   "metadata": {},
   "outputs": [],
   "source": [
    "from bokeh.plotting import figure, output_notebook, show\n",
    "\n",
    "output_notebook()\n",
    "\n",
    "# create a new plot with a title and axis labels\n",
    "p = figure(title=\"simple line example\", \n",
    "           height=400,\n",
    "           width=800,\n",
    "           y_axis_label='Volts', \n",
    "           x_axis_label='Time',\n",
    "          )\n",
    "\n",
    "Time, Volts = get_channel(Tek,1)\n",
    "# add a line renderer with legend and line thickness\n",
    "p.line(Time, Volts, legend_label=\"1\", line_width=2, line_color=\"Yellow\")\n",
    "\n",
    "Time, Volts = get_channel(Tek,2)\n",
    "# add a line renderer with legend and line thickness\n",
    "p.line(Time, Volts, legend_label=\"2\", line_width=2, line_color=\"Cyan\")\n",
    "\n",
    "# show the results\n",
    "show(p)"
   ]
  },
  {
   "cell_type": "markdown",
   "metadata": {},
   "source": [
    "## Interacting with a Brüel & Kjær Type 3050-B-6 using Python"
   ]
  },
  {
   "cell_type": "markdown",
   "metadata": {},
   "source": [
    "To communicate with a stand-alone [Brüel & Kjær Type 3050-B-6](https://www.bksv.com/en/products/data-acquisition-systems-and-hardware/LAN-XI-data-acquisition-hardware/modules/type-3050), it is necessary to have a [Notar™ BZ-7848-A (LAN-XI stand-alone recorder license)](https://www.bksv.com/en/products/data-acquisition-systems-and-hardware/general-purpose-analyzer-system/lan-xi-notar), which allows you to interact with the device via a browser, utilising the Ethernet port at the back of the device. \n",
    "\n",
    "The details of how to interact with the BnK have been worked out in the [PyBnK](https://github.com/uwasystemhealth/PyBnK) respository, here we simply need to import the module, then use the BnK device."
   ]
  },
  {
   "cell_type": "code",
   "execution_count": null,
   "metadata": {},
   "outputs": [],
   "source": [
    "bnk_ip = '169.254.245.20'"
   ]
  },
  {
   "cell_type": "code",
   "execution_count": null,
   "metadata": {},
   "outputs": [],
   "source": [
    "from bnk.bnk import WavHeader, OpenWav, Instrument\n",
    "\n",
    "ADAC = Instrument(bnk_ip)"
   ]
  },
  {
   "cell_type": "code",
   "execution_count": null,
   "metadata": {},
   "outputs": [],
   "source": [
    "print(ADAC) # Show some info about the BnK device"
   ]
  },
  {
   "cell_type": "code",
   "execution_count": null,
   "metadata": {},
   "outputs": [],
   "source": [
    "ADAC.disable_all()\n",
    "ADAC.set_samplerate(131072)\n",
    "ADAC.set_name('MTF_test')\n",
    "ADAC.set_channel(channel=2, name='Reson', \n",
    "                 c_filter='7.0 Hz', c_range='10 Vpeak')\n",
    "ADAC.set_channel(channel=4, name='Source', \n",
    "                 c_filter='7.0 Hz', c_range='10 Vpeak')\n",
    "print(ADAC)"
   ]
  },
  {
   "cell_type": "code",
   "execution_count": null,
   "metadata": {},
   "outputs": [],
   "source": [
    "ADAC.list_recordings()"
   ]
  },
  {
   "cell_type": "code",
   "execution_count": null,
   "metadata": {},
   "outputs": [],
   "source": [
    "ADAC.powerup()\n",
    "recording_id = ADAC.record(1)\n",
    "ADAC.powerdown()\n",
    "WAV_file = ADAC.get_wav(directory='untracked',recording_id=recording_id)\n",
    "ADAC.delete_recording(recording_id=recording_id)\n",
    "wav_data, metadata, json_data = OpenWav(WAV_file)#, verbose=True)"
   ]
  },
  {
   "cell_type": "code",
   "execution_count": null,
   "metadata": {},
   "outputs": [],
   "source": [
    "from bokeh.plotting import figure, output_notebook, show\n",
    "import numpy as np\n",
    "\n",
    "output_notebook()\n",
    "\n",
    "# create a new plot with a title and axis labels\n",
    "p = figure(title=\"BnK recording\", x_axis_label='Time', y_axis_label='Voltage')\n",
    "\n",
    "xincr = 1/metadata['SampleRate']\n",
    "\n",
    "Volts = wav_data[:,0]\n",
    "Time = np.arange(0, xincr * len(Volts), xincr)\n",
    "\n",
    "# add a line renderer with legend and line thickness\n",
    "p.line(Time, Volts, legend_label=\"1\", line_width=2, line_color=\"Yellow\")\n",
    "\n",
    "Volts = wav_data[:,1]\n",
    "\n",
    "# add a line renderer with legend and line thickness\n",
    "p.line(Time, Volts, legend_label=\"2\", line_width=2, line_color=\"Cyan\")\n",
    "\n",
    "# show the results\n",
    "show(p)"
   ]
  },
  {
   "cell_type": "markdown",
   "metadata": {},
   "source": [
    "## TODO"
   ]
  },
  {
   "cell_type": "markdown",
   "metadata": {},
   "source": [
    "* Load the PyBnK library\n"
   ]
  },
  {
   "cell_type": "markdown",
   "metadata": {},
   "source": [
    "### Burst pulses"
   ]
  },
  {
   "cell_type": "code",
   "execution_count": null,
   "metadata": {},
   "outputs": [],
   "source": [
    "#enable high impedance\n",
    "Agilent.write(\"OUTPut:LOAD INF\")\n",
    " \n",
    "#Set the Frequency to 2000 Hz\n",
    "frequency = 2000\n",
    "Agilent.write(\"FUNCtion SINusoid\")\n",
    "Agilent.write(\"FREQuency {}\".format(frequency))\n",
    " \n",
    "#Set the amplitude to 2.273 Vrms\n",
    "amplitude = 2.273\n",
    "Agilent.write(\"VOLTage:UNIT VRMS\")\n",
    "Agilent.write(\"VOLTage {}\".format(amplitude))\n",
    " \n",
    "#Set the offset to 0\n",
    "Agilent.write(\"VOLTage:OFFSet {}\".format(0))"
   ]
  },
  {
   "cell_type": "code",
   "execution_count": null,
   "metadata": {},
   "outputs": [],
   "source": [
    " \n",
    "ncycles = 10\n",
    "int_period = 1\n",
    "  \n",
    "Agilent.write(\"BURSt:NCYCles {}\".format(ncycles))\n",
    "Agilent.write(\"BURSt:INTernal:PERiod {}\".format(int_period))          \n",
    "Agilent.write(\"BURSt:STATe ON\")\n",
    "  \n",
    "for f in range(2000,11000,1000):\n",
    "    print(f'Pulsing at {f}')\n",
    "    Agilent.write(\"FREQuency {}\".format(f))\n",
    "    Agilent.write(\"OUTPut ON\")\n",
    "    time.sleep(12)\n",
    "    Agilent.write(\"OUTPut OFF\")\n",
    "    time.sleep(8)\n",
    "\n",
    "print(\"Finished\")"
   ]
  },
  {
   "cell_type": "markdown",
   "metadata": {},
   "source": [
    "### Bandwidth-limited white noise"
   ]
  },
  {
   "cell_type": "code",
   "execution_count": null,
   "metadata": {},
   "outputs": [],
   "source": [
    "#enable high impedance\n",
    "Agilent.write(\"OUTPut:LOAD INF\")\n",
    "Agilent.write(\"OUTPut OFF\")\n",
    "Agilent.write(\"FUNCtion NOISe\")\n",
    "Agilent.write(\"FUNCtion:NOISe:BANDWidth 1.0E+04\")\n",
    "\n",
    "Agilent.write(\"OUTPut ON\")"
   ]
  },
  {
   "cell_type": "markdown",
   "metadata": {},
   "source": [
    "## Testing with the BnK running off mains power"
   ]
  },
  {
   "cell_type": "markdown",
   "metadata": {},
   "source": [
    "Below we show the effect of running the BnK off mains power, without opening the recorder application, \n",
    "which gives 50 Hz noise:\n",
    "\n",
    "![50 Hz noise from BnK power supply](figures/tektronix_screenshot_20200625145743.png)\n",
    "\n",
    "This noise problem seems to disappear if you simply start the BnK recorder application, and\n",
    "does not reappear, even if the recorder application is closed, until the device is rebooted."
   ]
  },
  {
   "cell_type": "markdown",
   "metadata": {},
   "source": [
    "## Complicated example"
   ]
  },
  {
   "cell_type": "markdown",
   "metadata": {},
   "source": [
    "Now let's do a complicated example where we start the BnK recording and then generate a variety of signals using\n",
    "the signal generator, as well as gather a variety of data from the oscilloscope.\n",
    "\n",
    "For this example, I am going to turn all filters off on the BnK."
   ]
  },
  {
   "cell_type": "code",
   "execution_count": null,
   "metadata": {},
   "outputs": [],
   "source": [
    "# Get the BnK ready\n",
    "\n",
    "bnk_ip = '169.254.245.20'\n",
    "\n",
    "from bnk.bnk import WavHeader, OpenWav, Instrument\n",
    "\n",
    "ADAC = Instrument(bnk_ip)\n",
    "\n",
    "ADAC.disable_all()\n",
    "ADAC.set_samplerate(131072)\n",
    "ADAC.set_name('Bench_test')\n",
    "ADAC.set_channel(channel=2, name='SigGen1', \n",
    "                 c_filter='DC', c_range='10 Vpeak')\n",
    "ADAC.set_channel(channel=4, name='SigGen2', \n",
    "                 c_filter='DC', c_range='10 Vpeak')"
   ]
  },
  {
   "cell_type": "code",
   "execution_count": null,
   "metadata": {},
   "outputs": [],
   "source": [
    "# Get the SigGen ready\n",
    "\n",
    "keysight_ip = '169.254.245.21'\n",
    "\n",
    "import vxi11\n",
    "import time\n",
    "\n",
    "Agilent = vxi11.Instrument(keysight_ip)\n",
    "print(Agilent.ask(\"*IDN?\"))\n",
    "\n",
    "#enable high impedance\n",
    "Agilent.write(\"OUTPut:LOAD INF\")\n",
    "#Agilent.write(\"OUTPut2:LOAD INF\")\n",
    "\n",
    "#Turn off channel 1\n",
    "Agilent.write(\"OUTPut OFF\")\n",
    "\n",
    "#Turn off channel 2\n",
    "#Agilent.write(\"OUTPut2 OFF\")\n",
    "\n",
    "#Set the units to Vpp\n",
    "Agilent.write(\"VOLTage:UNIT VPP\")\n",
    "\n"
   ]
  },
  {
   "cell_type": "code",
   "execution_count": null,
   "metadata": {},
   "outputs": [],
   "source": [
    "# Get the Oscilloscope ready\n",
    "\n",
    "tektronix_ip = '169.254.4.115'\n",
    "\n",
    "Tek = vxi11.Instrument(tektronix_ip)\n",
    "print(Tek.ask(\"*IDN?\"))\n",
    "\n",
    "from datetime import datetime\n",
    "\n",
    "#Set the clock\n",
    "Tek.write(f\"Date '{datetime.now().strftime('%Y-%m-%d')}'\")\n",
    "Tek.write(f\"Time '{datetime.now().strftime('%H:%M:%S')}'\")\n",
    "\n",
    "# Turn on Channel 1 and 2, turn off channel 3 and 4\n",
    "Tek.write(\"SELECT:CH1 ON\")\n",
    "Tek.write(\"SELECT:CH2 ON\")\n",
    "Tek.write(\"SELECT:CH3 OFF\")\n",
    "Tek.write(\"SELECT:CH4 OFF\")\n",
    "\n",
    "# Configure the channels\n",
    "for n in range(1,5):\n",
    "    Tek.write(f\"CH{n}:Termination MEG\") #Set termination to 1 MΩ \n",
    "    #Tek.write(f\"CH{n}:Termination FIFTy\") #Set termination to 50 Ω \n",
    "    Tek.write(f\"CH{n}:COUPling DC\") #Set coupling to DC\n",
    "    Tek.write(f\"CH{n}:INVErt OFF\") #Set Invert to off\n",
    "    Tek.write(f\"CH{n}:POSition 0\") #Set vertical position to 0    \n",
    "\n",
    "#Tek.write(\"CLEARMenu\")\n",
    "\n",
    "# Configure the vertical axis\n",
    "for n in range(1,3):\n",
    "    Tek.write(f'CH{n}:YUN \"V\"') \n",
    "    Tek.write(f\"CH{n}:SCALE 1\")\n",
    "    \n",
    "# Configure the horizontal axis\n",
    "Tek.write(\"HORIZONTAL:SCALE 400E-6\")\n",
    "\n",
    "# Configure the trigger\n",
    "trig_level = 0.5\n",
    "Tek.write(\"TRIGger:A:TYPE Edge\")\n",
    "Tek.write(\"TRIGger:A:EDGE:SOUrce CH1\")\n",
    "Tek.write(\"TRIGger:A:EDGE:COUPling DC\")\n",
    "Tek.write(\"TRIGger:A:EDGE:SLOpe RISE\")\n",
    "Tek.write(f\"TRIGger:A:LEVel:CH1 {trig_level}\")\n",
    "Tek.write(\"TRIGger:A:MODe NORMal\")\n",
    "\n",
    "set_measurements = False\n",
    "if set_measurements:\n",
    "    # Set some measurements\n",
    "    Tek.write(\"MEASUrement:MEAS1:TYPe FREQuency\")\n",
    "    Tek.write(\"MEASUrement:MEAS2:TYPe FREQuency\")\n",
    "    Tek.write(\"MEASUrement:MEAS3:TYPe PK2Pk\")\n",
    "    Tek.write(\"MEASUrement:MEAS4:TYPe PK2Pk\")\n",
    "\n",
    "    Tek.write(\"MEASUrement:MEAS1:SOUrce CH1\")\n",
    "    Tek.write(\"MEASUrement:MEAS2:SOUrce CH2\")\n",
    "    Tek.write(\"MEASUrement:MEAS3:SOUrce CH1\")\n",
    "    Tek.write(\"MEASUrement:MEAS4:SOUrce CH2\")\n",
    "\n",
    "    for n in range(1,5):\n",
    "        Tek.write(f\"MEASUrement:MEAS{n}:SOUrce2 CH1\")\n",
    "        Tek.write(f\"MEASUrement:MEAS{n}:STATE ON\")\n",
    "else:\n",
    "    #Remove all measurements\n",
    "    for n in range(1,5):\n",
    "        Tek.write(f\"MEASUrement:MEAS{n}:STATE OFF\")\n",
    "    "
   ]
  },
  {
   "cell_type": "code",
   "execution_count": null,
   "metadata": {},
   "outputs": [],
   "source": [
    "import numpy as np\n",
    "from struct import unpack\n",
    "\n",
    "def get_channel(Dev,channel):\n",
    "    \n",
    "    Dev.write(f\"DATA:SOU CH{channel}\")\n",
    "    Dev.write(\"DATA:WIDTH 1\")\n",
    "    Dev.write(\"DATA:ENC RPB\")\n",
    "\n",
    "    ymult = float(Dev.ask(\"WFMPRE:YMULT?\"))\n",
    "    yzero = float(Dev.ask(\"WFMPRE:YZERO?\"))\n",
    "    yoff = float(Dev.ask(\"WFMPRE:YOFF?\"))\n",
    "    xincr = float(Dev.ask(\"WFMPRE:XINCR?\"))\n",
    "\n",
    "    Dev.write(\"CURVE?\")\n",
    "    data = Dev.read_raw()\n",
    "\n",
    "    headerlen = 2 + int(data[1])\n",
    "    header = data[:headerlen]\n",
    "    ADC_wav = data[headerlen:-1]\n",
    "    ADC_wav = np.array(unpack('%sB' % len(ADC_wav),ADC_wav))\n",
    "\n",
    "    Volts = (ADC_wav - yoff) * ymult + yzero\n",
    "    Time = np.arange(0, xincr * len(Volts), xincr)\n",
    "    # The oscilloscope appears to capture 9952 points irrespective\n",
    "    # of the time resolution, and to match the sample with t=0 on the\n",
    "    # screen we need to shift the time back by 4952 points\n",
    "    # (ie the data are not symmetrical about the middle)\n",
    "    Time = Time - xincr*(len(Volts) - 5000)\n",
    "    \n",
    "    return Time, Volts\n"
   ]
  },
  {
   "cell_type": "code",
   "execution_count": null,
   "metadata": {},
   "outputs": [],
   "source": [
    "Tek.write(\"CLEARMenu\")"
   ]
  },
  {
   "cell_type": "code",
   "execution_count": null,
   "metadata": {},
   "outputs": [],
   "source": [
    "Tek.write(\"FPANEL:PRESS SINGleseq\")"
   ]
  },
  {
   "cell_type": "code",
   "execution_count": null,
   "metadata": {},
   "outputs": [],
   "source": [
    "Tek.ask(\"TRIGger:STATe?\")"
   ]
  },
  {
   "cell_type": "code",
   "execution_count": null,
   "metadata": {},
   "outputs": [],
   "source": [
    "from pathlib import Path\n",
    "from IPython.display import Image\n",
    "from IPython.display import display\n",
    "from math import log10, ceil, floor\n",
    "\n",
    "Path(\"untracked\").mkdir(exist_ok=True)\n",
    "\n",
    "ADAC.powerup()\n",
    "recording_id = ADAC.start_record()\n",
    "\n",
    "start_frequency = 2000\n",
    "stop_frequency = 10000\n",
    "step_frequency = 1000\n",
    "ncycles = 10\n",
    "int_period = 1\n",
    "nbursts = 3\n",
    "pause_period = int_period*2\n",
    "\n",
    "files = []\n",
    "\n",
    "Agilent.write(\"FUNCtion SINusoid\")\n",
    "Agilent.write(\"FREQuency {}\".format(start_frequency))\n",
    "\n",
    "#Set the amplitude to 2.273 Vrms\n",
    "amplitude = 2.273\n",
    "Agilent.write(\"VOLTage:UNIT VRMS\")\n",
    "Agilent.write(\"VOLTage {}\".format(amplitude))\n",
    "\n",
    "Agilent.write(\"TRIGger:SOURce IMMediate\")\n",
    "Agilent.write(\"BURSt:MODE TRIGgered\")\n",
    "Agilent.write(\"BURSt:NCYCles {}\".format(ncycles))\n",
    "Agilent.write(\"BURSt:INTernal:PERiod {}\".format(int_period))          \n",
    "Agilent.write(\"BURSt:STATe ON\")\n",
    "\n",
    "oscilloscope_output = {}\n",
    "\n",
    "# The horizontal scale on the tektronix is some exponent multiplied\n",
    "# by 1, 2 or 4.\n",
    "# To fit all the cycles on the screen after the trigger, we require\n",
    "# ncycles/frequency < 5 * horizontal_scale\n",
    "# Therefore\n",
    "#   horizontal_scale > n_cycles/(5*frequency)\n",
    "def ceil_124(x):\n",
    "    ''' The Tektronix oscilloscope has a horizontal scale which increments\n",
    "    from 1 to 2 to four and then to 10. This function returns the increment\n",
    "    value greater than the given value.'''\n",
    "    \n",
    "    exp = floor(log10(abs(x)))\n",
    "    coef = x/10**exp\n",
    "    if coef < 1: #Should not be possible\n",
    "        return 10**exp\n",
    "    elif coef < 2:\n",
    "        return 2*10**exp\n",
    "    elif coef < 4:\n",
    "        return 4*10**exp\n",
    "    else:\n",
    "        return 10**(exp+1)\n",
    "\n",
    "t1 = datetime.now()\n",
    "\n",
    "for f in range(start_frequency,stop_frequency+step_frequency,step_frequency):\n",
    "    print(f'Pulsing at {f}')\n",
    "    hoz_scale = ceil_124(ncycles/(5*f)) # at least 2.5 periods per division\n",
    "    Tek.write(f\"HORIZONTAL:SCALE {hoz_scale}\") \n",
    "    Agilent.write(\"FREQuency {}\".format(f))\n",
    "    oscilloscope_output[f] = []\n",
    "    Tek.write(\"FPANEL:PRESS SINGleseq\")    \n",
    "    \n",
    "    t2 = datetime.now()\n",
    "    run_time = (t2 - t1).total_seconds()\n",
    "    if f == start_frequency:\n",
    "        sleep_time = 0.2\n",
    "    else:\n",
    "        sleep_time = int_period*nbursts + pause_period - run_time\n",
    "    time.sleep(sleep_time)\n",
    "\n",
    "    Agilent.write(\"OUTPut ON\")\n",
    "    t1 = datetime.now()\n",
    "    print(f\"Last runtime was {run_time} seconds, slept for {sleep_time} seconds.\")\n",
    "    b = 0\n",
    "    while b < nbursts:\n",
    "\n",
    "        #It takes about 0.2 seconds to gather a pulse from the oscilloscope\n",
    "        #so int_period needs to be longer than that\n",
    "        while Tek.ask(\"TRIGger:STATe?\") != 'SAVE':\n",
    "            pass\n",
    "        Time, Volts = get_channel(Tek,1)\n",
    "        #print(f\"Got snapshot {b}\") \n",
    "        Tek.write(\"FPANEL:PRESS SINGleseq\")\n",
    "        oscilloscope_output[f].append([Time, Volts])\n",
    "        while Tek.ask(\"TRIGger:STATe?\") != 'ARMED':\n",
    "            pass\n",
    "        b = b + 1\n",
    "    \n",
    "    Agilent.write(\"OUTPut OFF\")\n",
    "\n",
    "print(\"Finished\")\n",
    "\n",
    "time.sleep(1)\n",
    "\n",
    "ADAC.stop_record()\n",
    "\n",
    "ADAC.powerdown()\n",
    "WAV_file = ADAC.get_wav(directory='untracked',recording_id=recording_id)\n",
    "ADAC.delete_recording(recording_id=recording_id)\n",
    "wav_data, metadata, json_data = OpenWav(WAV_file)#, verbose=True)\n"
   ]
  },
  {
   "cell_type": "code",
   "execution_count": null,
   "metadata": {},
   "outputs": [],
   "source": [
    "#import ipyplot\n",
    "#ipyplot.plot_images(files, max_images=20, img_width=600)\n"
   ]
  },
  {
   "cell_type": "code",
   "execution_count": null,
   "metadata": {},
   "outputs": [],
   "source": [
    "from bokeh.plotting import figure, output_notebook, show\n",
    "from bokeh.palettes import mpl\n",
    "\n",
    "output_notebook()\n",
    "\n",
    "# create a new plot with a title and axis labels\n",
    "p = figure(title=\"Example pulses\", \n",
    "           height=800,\n",
    "           width=1200,\n",
    "           y_axis_label='Volts', \n",
    "           x_axis_label='Time',\n",
    "          )\n",
    "\n",
    "color = mpl['Plasma'][len(oscilloscope_output)]\n",
    "\n",
    "xincr = 1/metadata['SampleRate']\n",
    "\n",
    "Volts = wav_data[:,0]\n",
    "Time = np.arange(0, xincr * len(Volts), xincr)\n",
    "\n",
    "#This is the time from the beginning of the BnK recording to the\n",
    "#beginning of the first burst in the first set\n",
    "#Triggering off the BnK is difficult, because the sample rate is\n",
    "#relatively low\n",
    "f = start_frequency\n",
    "amp = amplitude*np.sqrt(2)\n",
    "trig_offset = np.arcsin(trig_level/amp)/(2*np.pi*f)\n",
    "offset = Time[np.argmax(Volts>trig_level)] - trig_offset\n",
    "print(f\"Time to first pulse : {offset} seconds.\")\n",
    "\n",
    "plt_x_separation = 0.02\n",
    "plt_y_separation = 7\n",
    "plt_len = 1000\n",
    "neg_shift = 40\n",
    "\n",
    "#Agilent ECD-P-MD-32314\n",
    "time_scale = 1.000052\n",
    "\n",
    "#Keysight ECD-P-MD-32352\n",
    "time_scale = 1.\n",
    "\n",
    "# The Agilent Sig Gen is working well, but the Keysight is not.\n",
    "# All pulses (even between bursts) are separated by integer multiples\n",
    "# of the int_period for the Agilent. Not so for the Keysight.\n",
    "# I don't know if there is a setting which needs changing or this is \n",
    "# just a limitation of the device.\n",
    "\n",
    "n = 0 \n",
    "for f, d_list in oscilloscope_output.items():\n",
    "    trig_offset = np.arcsin(trig_level/amp)/(2*np.pi*f)\n",
    "    for x, d in enumerate(d_list):\n",
    "        p.line(d[0] + trig_offset + x*plt_x_separation,\n",
    "               d[1] + plt_y_separation*n,\n",
    "               legend_label=f\"{f} Hz\",\n",
    "               line_color=color[n]\n",
    "              )\n",
    "        start = n*(int_period*nbursts + pause_period)*time_scale #this covers the breaks\n",
    "        start = start + x*int_period*time_scale + offset\n",
    "        start_pos = (np.abs(Time - start)).argmin()\n",
    "        p.circle(Time[start_pos-neg_shift:start_pos+plt_len]-Time[start_pos] + x*plt_x_separation,\n",
    "                 Volts[start_pos-neg_shift:start_pos+plt_len] + plt_y_separation*n, \n",
    "                 legend_label=f\"{f} Hz BnK\", \n",
    "                 line_width=0, \n",
    "                 fill_color=color[n],\n",
    "                )\n",
    "    n = n + 1\n",
    "\n",
    "# add a line renderer with legend and line thickness\n",
    "#p.line(Time, Volts, legend_label=\"BnK Channel 1\", line_width=2, line_color=\"Black\")\n",
    "\n",
    "p.legend.click_policy=\"hide\"\n",
    "\n",
    "#p.x_range.start = -0.2e-3\n",
    "#p.x_range.end = 1.2e-3\n",
    "#p.y_range.start = -5\n",
    "#p.y_range.end = 60\n",
    "\n",
    "# show the results\n",
    "show(p)"
   ]
  },
  {
   "cell_type": "code",
   "execution_count": null,
   "metadata": {},
   "outputs": [],
   "source": []
  },
  {
   "cell_type": "code",
   "execution_count": null,
   "metadata": {},
   "outputs": [],
   "source": []
  },
  {
   "cell_type": "code",
   "execution_count": null,
   "metadata": {},
   "outputs": [],
   "source": []
  },
  {
   "cell_type": "code",
   "execution_count": null,
   "metadata": {},
   "outputs": [],
   "source": []
  }
 ],
 "metadata": {
  "kernelspec": {
   "display_name": "Python 3",
   "language": "python",
   "name": "python3"
  },
  "language_info": {
   "codemirror_mode": {
    "name": "ipython",
    "version": 3
   },
   "file_extension": ".py",
   "mimetype": "text/x-python",
   "name": "python",
   "nbconvert_exporter": "python",
   "pygments_lexer": "ipython3",
   "version": "3.8.4"
  }
 },
 "nbformat": 4,
 "nbformat_minor": 4
}
